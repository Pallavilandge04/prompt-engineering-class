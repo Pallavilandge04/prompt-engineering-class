{
  "nbformat": 4,
  "nbformat_minor": 0,
  "metadata": {
    "colab": {
      "provenance": []
    },
    "kernelspec": {
      "name": "python3",
      "display_name": "Python 3"
    },
    "language_info": {
      "name": "python"
    }
  },
  "cells": [
    {
      "cell_type": "code",
      "execution_count": 1,
      "metadata": {
        "colab": {
          "base_uri": "https://localhost:8080/"
        },
        "id": "WqBWPk0onWK6",
        "outputId": "54d9f7b2-9434-490a-ce5c-73cbb38f1581"
      },
      "outputs": [
        {
          "output_type": "stream",
          "name": "stdout",
          "text": [
            "Collecting langchain\n",
            "  Downloading langchain-0.2.14-py3-none-any.whl.metadata (7.1 kB)\n",
            "Collecting groq\n",
            "  Downloading groq-0.9.0-py3-none-any.whl.metadata (13 kB)\n",
            "Requirement already satisfied: PyYAML>=5.3 in /usr/local/lib/python3.10/dist-packages (from langchain) (6.0.2)\n",
            "Requirement already satisfied: SQLAlchemy<3,>=1.4 in /usr/local/lib/python3.10/dist-packages (from langchain) (2.0.32)\n",
            "Requirement already satisfied: aiohttp<4.0.0,>=3.8.3 in /usr/local/lib/python3.10/dist-packages (from langchain) (3.10.5)\n",
            "Requirement already satisfied: async-timeout<5.0.0,>=4.0.0 in /usr/local/lib/python3.10/dist-packages (from langchain) (4.0.3)\n",
            "Collecting langchain-core<0.3.0,>=0.2.32 (from langchain)\n",
            "  Downloading langchain_core-0.2.35-py3-none-any.whl.metadata (6.2 kB)\n",
            "Collecting langchain-text-splitters<0.3.0,>=0.2.0 (from langchain)\n",
            "  Downloading langchain_text_splitters-0.2.2-py3-none-any.whl.metadata (2.1 kB)\n",
            "Collecting langsmith<0.2.0,>=0.1.17 (from langchain)\n",
            "  Downloading langsmith-0.1.104-py3-none-any.whl.metadata (13 kB)\n",
            "Requirement already satisfied: numpy<2,>=1 in /usr/local/lib/python3.10/dist-packages (from langchain) (1.26.4)\n",
            "Requirement already satisfied: pydantic<3,>=1 in /usr/local/lib/python3.10/dist-packages (from langchain) (2.8.2)\n",
            "Requirement already satisfied: requests<3,>=2 in /usr/local/lib/python3.10/dist-packages (from langchain) (2.32.3)\n",
            "Collecting tenacity!=8.4.0,<9.0.0,>=8.1.0 (from langchain)\n",
            "  Downloading tenacity-8.5.0-py3-none-any.whl.metadata (1.2 kB)\n",
            "Requirement already satisfied: anyio<5,>=3.5.0 in /usr/local/lib/python3.10/dist-packages (from groq) (3.7.1)\n",
            "Requirement already satisfied: distro<2,>=1.7.0 in /usr/lib/python3/dist-packages (from groq) (1.7.0)\n",
            "Collecting httpx<1,>=0.23.0 (from groq)\n",
            "  Downloading httpx-0.27.0-py3-none-any.whl.metadata (7.2 kB)\n",
            "Requirement already satisfied: sniffio in /usr/local/lib/python3.10/dist-packages (from groq) (1.3.1)\n",
            "Requirement already satisfied: typing-extensions<5,>=4.7 in /usr/local/lib/python3.10/dist-packages (from groq) (4.12.2)\n",
            "Requirement already satisfied: aiohappyeyeballs>=2.3.0 in /usr/local/lib/python3.10/dist-packages (from aiohttp<4.0.0,>=3.8.3->langchain) (2.4.0)\n",
            "Requirement already satisfied: aiosignal>=1.1.2 in /usr/local/lib/python3.10/dist-packages (from aiohttp<4.0.0,>=3.8.3->langchain) (1.3.1)\n",
            "Requirement already satisfied: attrs>=17.3.0 in /usr/local/lib/python3.10/dist-packages (from aiohttp<4.0.0,>=3.8.3->langchain) (24.2.0)\n",
            "Requirement already satisfied: frozenlist>=1.1.1 in /usr/local/lib/python3.10/dist-packages (from aiohttp<4.0.0,>=3.8.3->langchain) (1.4.1)\n",
            "Requirement already satisfied: multidict<7.0,>=4.5 in /usr/local/lib/python3.10/dist-packages (from aiohttp<4.0.0,>=3.8.3->langchain) (6.0.5)\n",
            "Requirement already satisfied: yarl<2.0,>=1.0 in /usr/local/lib/python3.10/dist-packages (from aiohttp<4.0.0,>=3.8.3->langchain) (1.9.4)\n",
            "Requirement already satisfied: idna>=2.8 in /usr/local/lib/python3.10/dist-packages (from anyio<5,>=3.5.0->groq) (3.7)\n",
            "Requirement already satisfied: exceptiongroup in /usr/local/lib/python3.10/dist-packages (from anyio<5,>=3.5.0->groq) (1.2.2)\n",
            "Requirement already satisfied: certifi in /usr/local/lib/python3.10/dist-packages (from httpx<1,>=0.23.0->groq) (2024.7.4)\n",
            "Collecting httpcore==1.* (from httpx<1,>=0.23.0->groq)\n",
            "  Downloading httpcore-1.0.5-py3-none-any.whl.metadata (20 kB)\n",
            "Collecting h11<0.15,>=0.13 (from httpcore==1.*->httpx<1,>=0.23.0->groq)\n",
            "  Downloading h11-0.14.0-py3-none-any.whl.metadata (8.2 kB)\n",
            "Collecting jsonpatch<2.0,>=1.33 (from langchain-core<0.3.0,>=0.2.32->langchain)\n",
            "  Downloading jsonpatch-1.33-py2.py3-none-any.whl.metadata (3.0 kB)\n",
            "Requirement already satisfied: packaging<25,>=23.2 in /usr/local/lib/python3.10/dist-packages (from langchain-core<0.3.0,>=0.2.32->langchain) (24.1)\n",
            "Collecting orjson<4.0.0,>=3.9.14 (from langsmith<0.2.0,>=0.1.17->langchain)\n",
            "  Downloading orjson-3.10.7-cp310-cp310-manylinux_2_17_x86_64.manylinux2014_x86_64.whl.metadata (50 kB)\n",
            "\u001b[2K     \u001b[90m━━━━━━━━━━━━━━━━━━━━━━━━━━━━━━━━━━━━━━━━\u001b[0m \u001b[32m50.4/50.4 kB\u001b[0m \u001b[31m1.3 MB/s\u001b[0m eta \u001b[36m0:00:00\u001b[0m\n",
            "\u001b[?25hRequirement already satisfied: annotated-types>=0.4.0 in /usr/local/lib/python3.10/dist-packages (from pydantic<3,>=1->langchain) (0.7.0)\n",
            "Requirement already satisfied: pydantic-core==2.20.1 in /usr/local/lib/python3.10/dist-packages (from pydantic<3,>=1->langchain) (2.20.1)\n",
            "Requirement already satisfied: charset-normalizer<4,>=2 in /usr/local/lib/python3.10/dist-packages (from requests<3,>=2->langchain) (3.3.2)\n",
            "Requirement already satisfied: urllib3<3,>=1.21.1 in /usr/local/lib/python3.10/dist-packages (from requests<3,>=2->langchain) (2.0.7)\n",
            "Requirement already satisfied: greenlet!=0.4.17 in /usr/local/lib/python3.10/dist-packages (from SQLAlchemy<3,>=1.4->langchain) (3.0.3)\n",
            "Collecting jsonpointer>=1.9 (from jsonpatch<2.0,>=1.33->langchain-core<0.3.0,>=0.2.32->langchain)\n",
            "  Downloading jsonpointer-3.0.0-py2.py3-none-any.whl.metadata (2.3 kB)\n",
            "Downloading langchain-0.2.14-py3-none-any.whl (997 kB)\n",
            "\u001b[2K   \u001b[90m━━━━━━━━━━━━━━━━━━━━━━━━━━━━━━━━━━━━━━━━\u001b[0m \u001b[32m997.8/997.8 kB\u001b[0m \u001b[31m13.2 MB/s\u001b[0m eta \u001b[36m0:00:00\u001b[0m\n",
            "\u001b[?25hDownloading groq-0.9.0-py3-none-any.whl (103 kB)\n",
            "\u001b[2K   \u001b[90m━━━━━━━━━━━━━━━━━━━━━━━━━━━━━━━━━━━━━━━━\u001b[0m \u001b[32m103.5/103.5 kB\u001b[0m \u001b[31m7.5 MB/s\u001b[0m eta \u001b[36m0:00:00\u001b[0m\n",
            "\u001b[?25hDownloading httpx-0.27.0-py3-none-any.whl (75 kB)\n",
            "\u001b[2K   \u001b[90m━━━━━━━━━━━━━━━━━━━━━━━━━━━━━━━━━━━━━━━━\u001b[0m \u001b[32m75.6/75.6 kB\u001b[0m \u001b[31m5.2 MB/s\u001b[0m eta \u001b[36m0:00:00\u001b[0m\n",
            "\u001b[?25hDownloading httpcore-1.0.5-py3-none-any.whl (77 kB)\n",
            "\u001b[2K   \u001b[90m━━━━━━━━━━━━━━━━━━━━━━━━━━━━━━━━━━━━━━━━\u001b[0m \u001b[32m77.9/77.9 kB\u001b[0m \u001b[31m6.0 MB/s\u001b[0m eta \u001b[36m0:00:00\u001b[0m\n",
            "\u001b[?25hDownloading langchain_core-0.2.35-py3-none-any.whl (394 kB)\n",
            "\u001b[2K   \u001b[90m━━━━━━━━━━━━━━━━━━━━━━━━━━━━━━━━━━━━━━━━\u001b[0m \u001b[32m394.9/394.9 kB\u001b[0m \u001b[31m27.4 MB/s\u001b[0m eta \u001b[36m0:00:00\u001b[0m\n",
            "\u001b[?25hDownloading langchain_text_splitters-0.2.2-py3-none-any.whl (25 kB)\n",
            "Downloading langsmith-0.1.104-py3-none-any.whl (149 kB)\n",
            "\u001b[2K   \u001b[90m━━━━━━━━━━━━━━━━━━━━━━━━━━━━━━━━━━━━━━━━\u001b[0m \u001b[32m149.1/149.1 kB\u001b[0m \u001b[31m11.6 MB/s\u001b[0m eta \u001b[36m0:00:00\u001b[0m\n",
            "\u001b[?25hDownloading tenacity-8.5.0-py3-none-any.whl (28 kB)\n",
            "Downloading jsonpatch-1.33-py2.py3-none-any.whl (12 kB)\n",
            "Downloading orjson-3.10.7-cp310-cp310-manylinux_2_17_x86_64.manylinux2014_x86_64.whl (141 kB)\n",
            "\u001b[2K   \u001b[90m━━━━━━━━━━━━━━━━━━━━━━━━━━━━━━━━━━━━━━━━\u001b[0m \u001b[32m141.9/141.9 kB\u001b[0m \u001b[31m8.9 MB/s\u001b[0m eta \u001b[36m0:00:00\u001b[0m\n",
            "\u001b[?25hDownloading h11-0.14.0-py3-none-any.whl (58 kB)\n",
            "\u001b[2K   \u001b[90m━━━━━━━━━━━━━━━━━━━━━━━━━━━━━━━━━━━━━━━━\u001b[0m \u001b[32m58.3/58.3 kB\u001b[0m \u001b[31m2.9 MB/s\u001b[0m eta \u001b[36m0:00:00\u001b[0m\n",
            "\u001b[?25hDownloading jsonpointer-3.0.0-py2.py3-none-any.whl (7.6 kB)\n",
            "Installing collected packages: tenacity, orjson, jsonpointer, h11, jsonpatch, httpcore, httpx, langsmith, groq, langchain-core, langchain-text-splitters, langchain\n",
            "  Attempting uninstall: tenacity\n",
            "    Found existing installation: tenacity 9.0.0\n",
            "    Uninstalling tenacity-9.0.0:\n",
            "      Successfully uninstalled tenacity-9.0.0\n",
            "Successfully installed groq-0.9.0 h11-0.14.0 httpcore-1.0.5 httpx-0.27.0 jsonpatch-1.33 jsonpointer-3.0.0 langchain-0.2.14 langchain-core-0.2.35 langchain-text-splitters-0.2.2 langsmith-0.1.104 orjson-3.10.7 tenacity-8.5.0\n",
            "Collecting langchain-groq\n",
            "  Downloading langchain_groq-0.1.9-py3-none-any.whl.metadata (2.9 kB)\n",
            "Requirement already satisfied: groq in /usr/local/lib/python3.10/dist-packages (0.9.0)\n",
            "Requirement already satisfied: langchain-core<0.3.0,>=0.2.26 in /usr/local/lib/python3.10/dist-packages (from langchain-groq) (0.2.35)\n",
            "Requirement already satisfied: anyio<5,>=3.5.0 in /usr/local/lib/python3.10/dist-packages (from groq) (3.7.1)\n",
            "Requirement already satisfied: distro<2,>=1.7.0 in /usr/lib/python3/dist-packages (from groq) (1.7.0)\n",
            "Requirement already satisfied: httpx<1,>=0.23.0 in /usr/local/lib/python3.10/dist-packages (from groq) (0.27.0)\n",
            "Requirement already satisfied: pydantic<3,>=1.9.0 in /usr/local/lib/python3.10/dist-packages (from groq) (2.8.2)\n",
            "Requirement already satisfied: sniffio in /usr/local/lib/python3.10/dist-packages (from groq) (1.3.1)\n",
            "Requirement already satisfied: typing-extensions<5,>=4.7 in /usr/local/lib/python3.10/dist-packages (from groq) (4.12.2)\n",
            "Requirement already satisfied: idna>=2.8 in /usr/local/lib/python3.10/dist-packages (from anyio<5,>=3.5.0->groq) (3.7)\n",
            "Requirement already satisfied: exceptiongroup in /usr/local/lib/python3.10/dist-packages (from anyio<5,>=3.5.0->groq) (1.2.2)\n",
            "Requirement already satisfied: certifi in /usr/local/lib/python3.10/dist-packages (from httpx<1,>=0.23.0->groq) (2024.7.4)\n",
            "Requirement already satisfied: httpcore==1.* in /usr/local/lib/python3.10/dist-packages (from httpx<1,>=0.23.0->groq) (1.0.5)\n",
            "Requirement already satisfied: h11<0.15,>=0.13 in /usr/local/lib/python3.10/dist-packages (from httpcore==1.*->httpx<1,>=0.23.0->groq) (0.14.0)\n",
            "Requirement already satisfied: PyYAML>=5.3 in /usr/local/lib/python3.10/dist-packages (from langchain-core<0.3.0,>=0.2.26->langchain-groq) (6.0.2)\n",
            "Requirement already satisfied: jsonpatch<2.0,>=1.33 in /usr/local/lib/python3.10/dist-packages (from langchain-core<0.3.0,>=0.2.26->langchain-groq) (1.33)\n",
            "Requirement already satisfied: langsmith<0.2.0,>=0.1.75 in /usr/local/lib/python3.10/dist-packages (from langchain-core<0.3.0,>=0.2.26->langchain-groq) (0.1.104)\n",
            "Requirement already satisfied: packaging<25,>=23.2 in /usr/local/lib/python3.10/dist-packages (from langchain-core<0.3.0,>=0.2.26->langchain-groq) (24.1)\n",
            "Requirement already satisfied: tenacity!=8.4.0,<9.0.0,>=8.1.0 in /usr/local/lib/python3.10/dist-packages (from langchain-core<0.3.0,>=0.2.26->langchain-groq) (8.5.0)\n",
            "Requirement already satisfied: annotated-types>=0.4.0 in /usr/local/lib/python3.10/dist-packages (from pydantic<3,>=1.9.0->groq) (0.7.0)\n",
            "Requirement already satisfied: pydantic-core==2.20.1 in /usr/local/lib/python3.10/dist-packages (from pydantic<3,>=1.9.0->groq) (2.20.1)\n",
            "Requirement already satisfied: jsonpointer>=1.9 in /usr/local/lib/python3.10/dist-packages (from jsonpatch<2.0,>=1.33->langchain-core<0.3.0,>=0.2.26->langchain-groq) (3.0.0)\n",
            "Requirement already satisfied: orjson<4.0.0,>=3.9.14 in /usr/local/lib/python3.10/dist-packages (from langsmith<0.2.0,>=0.1.75->langchain-core<0.3.0,>=0.2.26->langchain-groq) (3.10.7)\n",
            "Requirement already satisfied: requests<3,>=2 in /usr/local/lib/python3.10/dist-packages (from langsmith<0.2.0,>=0.1.75->langchain-core<0.3.0,>=0.2.26->langchain-groq) (2.32.3)\n",
            "Requirement already satisfied: charset-normalizer<4,>=2 in /usr/local/lib/python3.10/dist-packages (from requests<3,>=2->langsmith<0.2.0,>=0.1.75->langchain-core<0.3.0,>=0.2.26->langchain-groq) (3.3.2)\n",
            "Requirement already satisfied: urllib3<3,>=1.21.1 in /usr/local/lib/python3.10/dist-packages (from requests<3,>=2->langsmith<0.2.0,>=0.1.75->langchain-core<0.3.0,>=0.2.26->langchain-groq) (2.0.7)\n",
            "Downloading langchain_groq-0.1.9-py3-none-any.whl (14 kB)\n",
            "Installing collected packages: langchain-groq\n",
            "Successfully installed langchain-groq-0.1.9\n"
          ]
        }
      ],
      "source": [
        "\n",
        "!pip install langchain groq\n",
        "!pip install langchain-groq groq"
      ]
    },
    {
      "cell_type": "code",
      "source": [
        "from langchain_groq import ChatGroq\n",
        "from langchain.chains import LLMChain\n",
        "import os\n",
        "\n",
        "# Set your Groq API key\n",
        "os.environ[\"GROQ_API_KEY\"] = \"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\"\n",
        "\n",
        "# Initialize the Groq LLM\n",
        "llm = ChatGroq(model_name=\"mixtral-8x7b-32768\")"
      ],
      "metadata": {
        "id": "mYp783XXndV4"
      },
      "execution_count": 2,
      "outputs": []
    },
    {
      "cell_type": "code",
      "source": [
        "from langchain_core.messages import AIMessage, HumanMessage, SystemMessage\n",
        "from langchain.prompts import Prompt\n",
        "\n",
        "#Setup HumanMessage, SystemMessage for simple prompt.\n",
        "\n",
        "example = \"\"\"\n",
        "Question: Roger has 5 tennis balls. He buys 2 more cans of tennis balls. Each can has 3 tennis balls. How many tennis balls does he have now?\n",
        "Answer: 11.\n",
        "\n",
        "Question: The school has 23 triangles. If they used 9 for class, and bought 6 more, how many traingles do they have?\n",
        "Answer:\n",
        "\"\"\"\n",
        "human_message = HumanMessage(content=example)\n",
        "system_message = SystemMessage(content=\"You are helpful assistant.\")\n",
        "\n",
        "\n",
        "new_prompt = (system_message + human_message)\n",
        "\n",
        "print (f\"Prompt: {new_prompt}\")\n",
        "\n",
        "chain = LLMChain(llm=llm, prompt=new_prompt)\n",
        "reponse = chain.run({})\n",
        "print(f\"Response: {reponse}\")"
      ],
      "metadata": {
        "colab": {
          "base_uri": "https://localhost:8080/"
        },
        "id": "ssAJuk6anmoo",
        "outputId": "ed010de9-6977-4a89-b2e3-3134f2a38633"
      },
      "execution_count": 3,
      "outputs": [
        {
          "output_type": "stream",
          "name": "stdout",
          "text": [
            "Prompt: input_variables=[] messages=[SystemMessage(content='You are helpful assistant.'), HumanMessage(content='\\nQuestion: Roger has 5 tennis balls. He buys 2 more cans of tennis balls. Each can has 3 tennis balls. How many tennis balls does he have now?\\nAnswer: 11.\\n\\nQuestion: The school has 23 triangles. If they used 9 for class, and bought 6 more, how many traingles do they have?\\nAnswer:\\n')]\n"
          ]
        },
        {
          "output_type": "stream",
          "name": "stderr",
          "text": [
            "/usr/local/lib/python3.10/dist-packages/langchain_core/_api/deprecation.py:151: LangChainDeprecationWarning: The class `LLMChain` was deprecated in LangChain 0.1.17 and will be removed in 1.0. Use RunnableSequence, e.g., `prompt | llm` instead.\n",
            "  warn_deprecated(\n",
            "/usr/local/lib/python3.10/dist-packages/langchain_core/_api/deprecation.py:151: LangChainDeprecationWarning: The method `Chain.run` was deprecated in langchain 0.1.0 and will be removed in 1.0. Use invoke instead.\n",
            "  warn_deprecated(\n"
          ]
        },
        {
          "output_type": "stream",
          "name": "stdout",
          "text": [
            "Response: The school has 20 triangles now.\n",
            "\n",
            "Here's the reasoning:\n",
            "1. The school started with 23 triangles.\n",
            "2. They used 9 triangles in class, so 23 - 9 = 14 triangles are left.\n",
            "3. Then, they bought 6 more triangles.\n",
            "4. To find the total number of triangles now, add the number of remaining triangles and the number of triangles bought: 14 + 6 = 20 triangles.\n"
          ]
        }
      ]
    },
    {
      "cell_type": "code",
      "source": [],
      "metadata": {
        "colab": {
          "base_uri": "https://localhost:8080/"
        },
        "id": "jP6zl3gJnriZ",
        "outputId": "614e51ec-ebd6-4e0f-f369-a1472470c020"
      },
      "execution_count": 4,
      "outputs": [
        {
          "output_type": "stream",
          "name": "stdout",
          "text": [
            "Prompt: input_variables=[] messages=[SystemMessage(content='You are helpful assistant.'), HumanMessage(content=\"\\nQuestion: You have \\n45 and a pair of pants for \\n20.\\nHow can you determine if you can afford all three items?\\n\\nAnswer: To solve this, you'll need to:\\n\\nAdd the cost of the shirt and pants: \\n35 = \\n100 - \\n20\\nCompare the remaining amount to the cost of the hat: \\n50 to spend at the grocery store. You buy milk for \\n2.50, and apples for $4. How much money do you have left?\\nAnswer:\\n\")]\n",
            "Response: To determine if you can afford all three items, first add the cost of the shirt and pants: 45 + 20 = 65.\n",
            "Next, compare the remaining amount to the cost of the hat: 100 - 65 = 35. Since the hat costs 30, you can afford it because 35 is greater than 30.\n",
            "Regarding the grocery store, subtract the cost of milk and apples from the amount you have left: 50 - 2.50 - 4 = 43.50. So, you have 43.50 left after buying milk and apples.\n"
          ]
        }
      ]
    },
    {
      "cell_type": "code",
      "source": [
        "from langchain import PromptTemplate, LLMChain\n",
        "from langchain.chains import SimpleSequentialChain\n",
        "\n",
        "# First prompt template\n",
        "first_prompt = PromptTemplate(\n",
        "    input_variables=[\"topic\"],\n",
        "    template=\"Write a short introduction about {topic}.\"\n",
        ")\n",
        "\n",
        "# Second prompt template\n",
        "second_prompt = PromptTemplate(\n",
        "    input_variables=[\"introduction\"],\n",
        "    template=\"Based on this introduction, suggest 3 key points to expand upon: {introduction}\"\n",
        ")\n",
        "\n",
        "# Third prompt template\n",
        "third_prompt = PromptTemplate(\n",
        "    input_variables=[\"key_points\"],\n",
        "    template=\"For each of these key points, provide a brief explanation: {key_points}\"\n",
        ")\n",
        "\n",
        "# Create chains\n",
        "chain_one = LLMChain(llm=llm, prompt=first_prompt)\n",
        "chain_two = LLMChain(llm=llm, prompt=second_prompt)\n",
        "chain_three = LLMChain(llm=llm, prompt=third_prompt)\n",
        "\n",
        "# Create the sequential chain\n",
        "overall_chain = SimpleSequentialChain(\n",
        "    chains=[chain_one, chain_two, chain_three],\n",
        "    verbose=True\n",
        ")\n",
        "\n",
        "# Run the chain\n",
        "topic = \"Ava successfully tracks the signal to a hidden alien base on a distant planet. She discovers that the distress signal was a test to find a worthy ally, not a prelude to invasion. The aliens offer her advanced technology in exchange for her help in integrating it with Earth's defenses, establishing a new alliance.\"\n",
        "result = overall_chain.run(topic)\n",
        "\n",
        "print(result)"
      ],
      "metadata": {
        "colab": {
          "base_uri": "https://localhost:8080/"
        },
        "id": "klzbclV-nyMA",
        "outputId": "228f2708-d5ef-4337-e0f7-44ee1a17e500"
      },
      "execution_count": 8,
      "outputs": [
        {
          "output_type": "stream",
          "name": "stdout",
          "text": [
            "\n",
            "\n",
            "\u001b[1m> Entering new SimpleSequentialChain chain...\u001b[0m\n",
            "\u001b[36;1m\u001b[1;3mIn a groundbreaking discovery, Ava, a skilled astrobiologist and signal analyst, has successfully traced a mysterious distress signal to a clandestine alien base on a remote planet. Contrary to initial fears, the signal was not a harbinger of an impending invasion, but rather a sophisticated test designed to locate a worthy ally.\n",
            "\n",
            "Upon making contact with the extraterrestrial inhabitants, Ava learns that they have been monitoring Earth's progress and are eager to establish a mutual alliance. Intrigued by our potential and impressed by Ava's intellect, the aliens propose a technological exchange. They offer advanced technology and knowledge that could significantly bolster Earth's defenses and catapult our civilization into a new era of progress.\n",
            "\n",
            "In this thrilling introduction to an age of interstellar cooperation, Ava stands at the precipice of a momentous decision. Will she accept the alien's proposal and forge a path towards a prosperous and secure future for humanity, or will she choose caution and preserve the status quo? Regardless of her choice, the repercussions will be far-reaching and transformative, forever altering the course of history for both her own civilization and the enigmatic beings that share the cosmos.\u001b[0m\n",
            "\u001b[33;1m\u001b[1;3m1. The nature and implications of the alien's technological offer: This point should explore the specific technologies and knowledge that the aliens are willing to share with Earth. What benefits could these advancements bring to humanity, and how might they change the way we live, work, and interact with our environment? Additionally, what potential risks or challenges might these new technologies pose, and how can we mitigate them?\n",
            "\n",
            "2. The process of evaluating and negotiating the alien's proposal: Ava and her colleagues will need to carefully assess the potential advantages and drawbacks of accepting the aliens' offer. This process might involve consulting with experts in various fields, engaging in diplomatic negotiations with the extraterrestrial beings, and considering the ethical, social, and political ramifications of such a monumental decision. This point could also explore the role of Ava's unique skills and background in facilitating this evaluation and negotiation process.\n",
            "\n",
            "3. The possible consequences of accepting or declining the alien's proposal: This point should consider the potential long-term impacts of Ava's decision on both humanity and the alien civilization. If Ava chooses to accept the offer, how might this decision transform Earth's defense capabilities, geopolitical landscape, and overall progress? On the other hand, if she decides to decline, what opportunities might be lost, and how might this decision affect the aliens' perception of humanity? Furthermore, what unforeseen consequences might arise from either choice, and how can we prepare for them?\u001b[0m\n",
            "\u001b[38;5;200m\u001b[1;3m1. The nature and implications of the alien's technological offer: The alien's technological offer may include advancements in areas such as energy production, transportation, communication, medicine, and materials science. These new technologies could potentially eradicate diseases, provide sustainable and virtually free energy, enable rapid interplanetary travel, revolutionize agriculture, and drastically improve infrastructure. However, they might also present risks, including the loss of jobs due to automation, the potential misuse of advanced technologies, and unforeseen consequences on ecosystems and human health. To mitigate these risks, it would be crucial to establish international regulations, invest in education and re-skilling programs, and conduct thorough research on the environmental and social impacts of each technology before implementation.\n",
            "\n",
            "2. The process of evaluating and negotiating the alien's proposal: Ava and her team would need to assemble a diverse group of experts, including scientists, ethicists, diplomats, and politicians, to assess the alien's proposal. They should engage in open and respectful dialogue with the extraterrestrial beings, using diplomacy and active listening to understand their motivations and intentions. Ava's background in linguistics and her experience in conflict resolution would be invaluable in facilitating this process. Additionally, they must consider the ethical implications of accepting or declining the offer, taking into account the rights and welfare of future generations and the potential consequences for interstellar relations.\n",
            "\n",
            "3. The possible consequences of accepting or declining the alien's proposal: Accepting the alien's proposal could lead to a rapid acceleration of human progress, transforming Earth's defense capabilities, geopolitical landscape, and overall development. However, it might also create new power dynamics, with humanity potentially becoming dependent on the alien civilization for technological advancements. Declining the offer could preserve human autonomy and maintain the status quo, but it might also hinder our potential for growth and innovation, potentially leading to a missed opportunity for peaceful interaction with an advanced extraterrestrial civilization. Unforeseen consequences might include the emergence of new conflicts, the accidental release of harmful technologies, or the unintended alteration of human values and culture. To prepare for these outcomes, it would be essential to invest in education, research, and diplomacy, fostering a global culture of openness, curiosity, and responsibility.\u001b[0m\n",
            "\n",
            "\u001b[1m> Finished chain.\u001b[0m\n",
            "1. The nature and implications of the alien's technological offer: The alien's technological offer may include advancements in areas such as energy production, transportation, communication, medicine, and materials science. These new technologies could potentially eradicate diseases, provide sustainable and virtually free energy, enable rapid interplanetary travel, revolutionize agriculture, and drastically improve infrastructure. However, they might also present risks, including the loss of jobs due to automation, the potential misuse of advanced technologies, and unforeseen consequences on ecosystems and human health. To mitigate these risks, it would be crucial to establish international regulations, invest in education and re-skilling programs, and conduct thorough research on the environmental and social impacts of each technology before implementation.\n",
            "\n",
            "2. The process of evaluating and negotiating the alien's proposal: Ava and her team would need to assemble a diverse group of experts, including scientists, ethicists, diplomats, and politicians, to assess the alien's proposal. They should engage in open and respectful dialogue with the extraterrestrial beings, using diplomacy and active listening to understand their motivations and intentions. Ava's background in linguistics and her experience in conflict resolution would be invaluable in facilitating this process. Additionally, they must consider the ethical implications of accepting or declining the offer, taking into account the rights and welfare of future generations and the potential consequences for interstellar relations.\n",
            "\n",
            "3. The possible consequences of accepting or declining the alien's proposal: Accepting the alien's proposal could lead to a rapid acceleration of human progress, transforming Earth's defense capabilities, geopolitical landscape, and overall development. However, it might also create new power dynamics, with humanity potentially becoming dependent on the alien civilization for technological advancements. Declining the offer could preserve human autonomy and maintain the status quo, but it might also hinder our potential for growth and innovation, potentially leading to a missed opportunity for peaceful interaction with an advanced extraterrestrial civilization. Unforeseen consequences might include the emergence of new conflicts, the accidental release of harmful technologies, or the unintended alteration of human values and culture. To prepare for these outcomes, it would be essential to invest in education, research, and diplomacy, fostering a global culture of openness, curiosity, and responsibility.\n"
          ]
        }
      ]
    },
    {
      "cell_type": "code",
      "source": [
        "from langchain import PromptTemplate, LLMChain\n",
        "from langchain.prompts import FewShotPromptTemplate\n",
        "\n",
        "# Define the base prompt template\n",
        "base_prompt = PromptTemplate(\n",
        "    input_variables=[\"question\", \"thoughts\"],\n",
        "    template=\"\"\"Question: {question}\n",
        "\n",
        "Let's approach this step-by-step:\n",
        "\n",
        "{thoughts}\n",
        "\n",
        "Based on these thoughts, what is the final answer?\n",
        "\"\"\"\n",
        ")\n",
        "\n",
        "# Define examples for few-shot learning\n",
        "examples = [\n",
        "    {\n",
        "        \"question\": \"What is 15 + 27?\",\n",
        "        \"thoughts\": \"\"\"1) First, let's break down the numbers: 15 is 10 + 5, and 27 is 20 + 7.\n",
        "2) We can rearrange these: (10 + 20) + (5 + 7)\n",
        "3) 10 + 20 = 30\n",
        "4) 5 + 7 = 12\n",
        "5) So now we have 30 + 12\n",
        "6) 30 + 12 = 42\"\"\"\n",
        "    },\n",
        "    {\n",
        "        \"question\": \"How many months have 28 days?\",\n",
        "        \"thoughts\": \"\"\"1) Let's think about this carefully. At first, we might think only February has 28 days.\n",
        "2) However, the question is asking how many months HAVE 28 days, not how many ONLY have 28 days.\n",
        "3) Every month has at least 28 days.\n",
        "4) Therefore, all 12 months have at least 28 days.\"\"\"\n",
        "    }\n",
        "]\n",
        "\n",
        "# Create the few-shot prompt template\n",
        "few_shot_prompt = FewShotPromptTemplate(\n",
        "    examples=examples,\n",
        "    example_prompt=PromptTemplate(\n",
        "        input_variables=[\"question\", \"thoughts\"],\n",
        "        template=\"Question: {question}\\n\\nThoughts: {thoughts}\"\n",
        "    ),\n",
        "    prefix=\"Here are some examples of breaking down questions into steps:\",\n",
        "    suffix=\"Now, let's approach a new question:\\n\\n{input}\",\n",
        "    input_variables=[\"input\"],\n",
        "    example_separator=\"\\n\\n\"\n",
        ")\n",
        "\n",
        "# Combine the few-shot examples with the base prompt\n",
        "chain = LLMChain(\n",
        "    llm=llm,\n",
        "    prompt=PromptTemplate(\n",
        "        input_variables=[\"input\"],\n",
        "        template=few_shot_prompt.format(input=base_prompt.format(question=\"{question}\", thoughts=\"{thoughts}\"))\n",
        "    )\n",
        ")\n",
        "\n",
        "# Use the chain\n",
        "question = \"Ava successfully tracks the signal to a hidden alien base on a distant planet. She discovers that the distress signal was a test to find a worthy ally, not a prelude to invasion. The aliens offer her advanced technology in exchange for her help in integrating it with Earth's defenses, establishing a new alliance.\"\n",
        "result = chain.run(question=question, thoughts=\"Let's break this down step by step:\")\n",
        "\n",
        "print(result)\n",
        "\n"
      ],
      "metadata": {
        "colab": {
          "base_uri": "https://localhost:8080/"
        },
        "id": "r699MSoXoF8j",
        "outputId": "bad8fe54-076f-46d6-8bf7-baa72feccdf6"
      },
      "execution_count": 7,
      "outputs": [
        {
          "output_type": "stream",
          "name": "stdout",
          "text": [
            "The passage provided does not contain a clear question to be answered. However, it sets up a scenario where Ava, presumably a human, has discovered an alien base and has been offered advanced technology in exchange for her help in integrating it with Earth's defenses. The passage also mentions that this was a test to find a worthy ally and that a new alliance is being established.\n",
            "\n",
            "To move forward, we would need a specific question related to this scenario. For example:\n",
            "\n",
            "- What are the potential benefits of Ava accepting the aliens' offer?\n",
            "- What challenges might Ava face in integrating the alien technology with Earth's defenses?\n",
            "- How might this new alliance impact Earth and its relations with other alien civilizations?\n",
            "\n",
            "Once a question is posed, we can then break it down into steps and provide a well-reasoned answer based on the information given and any additional assumptions or background knowledge that may be necessary.\n"
          ]
        }
      ]
    }
  ]
}